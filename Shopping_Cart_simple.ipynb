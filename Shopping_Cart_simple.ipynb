{
 "cells": [
  {
   "cell_type": "code",
   "execution_count": 1,
   "id": "4e2b3657",
   "metadata": {},
   "outputs": [
    {
     "name": "stdout",
     "output_type": "stream",
     "text": [
      "What do you want to do? (add/remove/show/quit) quit\n",
      "Are are you sure you don't want anything else? Y/N? y\n",
      "[{'item': 'peanuts'}]\n"
     ]
    }
   ],
   "source": [
    "from IPython.display import clear_output as co\n",
    "\n",
    "def show_instructions():\n",
    "    print(\"\"\"Type 'add' to add a new item to your shopping cart.\n",
    "Type 'quit' to exit the Market.\n",
    "Type 'remove' to remove an item from your shopping cart.\n",
    "Type 'show' to list all items in your shopping cart\"\"\")\n",
    "\n",
    "def shopping_cart():\n",
    "    input('Welcome to the Market! Press enter to continue ')\n",
    "    \n",
    "    done = False\n",
    "    cart = []\n",
    "    \n",
    "    while not done:\n",
    "        co()\n",
    "        \n",
    "        choice = input(\"What do you want to do? (add/remove/show/quit) \").lower()\n",
    "        \n",
    "        if choice == 'add':\n",
    "            item = input(\"What item would you like to buy? \").lower()\n",
    "            \n",
    "            \n",
    "            cart_dict = {\n",
    "                'item': item\n",
    "                \n",
    "            }\n",
    "            \n",
    "            cart.append(cart_dict)\n",
    "            \n",
    "        elif choice == 'show':\n",
    "            for item in cart:\n",
    "                print(item)\n",
    "            input('Press any key continue')\n",
    "\n",
    "        elif choice == 'remove':\n",
    "            item_to_remove = input(\"What item would you like to remove? \").lower()\n",
    "            for i in cart:\n",
    "                if i[\"item\"] == item_to_remove: \n",
    "                    cart.remove(i)    \n",
    "\n",
    "\n",
    "\n",
    "        elif choice == 'quit':\n",
    "            confirm = input(\"Are are you sure you don't want anything else? Y/N? \").lower()\n",
    "            if confirm == 'y':\n",
    "                done = True\n",
    "                print(cart)\n",
    "            elif confirm == 'n':\n",
    "                continue\n",
    "        else:\n",
    "            print(\"That's not a valid option, please choose something else.\")\n",
    "    \n",
    "shopping_cart()"
   ]
  }
 ],
 "metadata": {
  "kernelspec": {
   "display_name": "Python 3",
   "language": "python",
   "name": "python3"
  },
  "language_info": {
   "codemirror_mode": {
    "name": "ipython",
    "version": 3
   },
   "file_extension": ".py",
   "mimetype": "text/x-python",
   "name": "python",
   "nbconvert_exporter": "python",
   "pygments_lexer": "ipython3",
   "version": "3.8.8"
  }
 },
 "nbformat": 4,
 "nbformat_minor": 5
}
